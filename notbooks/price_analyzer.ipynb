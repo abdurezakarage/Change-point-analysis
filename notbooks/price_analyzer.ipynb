{
 "cells": [
  {
   "cell_type": "code",
   "execution_count": 1,
   "id": "d140cd00",
   "metadata": {},
   "outputs": [],
   "source": [
    "import pandas as pd\n",
    "import numpy as np\n",
    "from datetime import datetime\n",
    "import os\n",
    "# Add the project root directory to Python path\n",
    "import sys\n",
    "sys.path.append(os.path.abspath(os.path.join(os.path.dirname('__file__'), '..')))"
   ]
  },
  {
   "cell_type": "code",
   "execution_count": 2,
   "id": "40cc0b6f",
   "metadata": {},
   "outputs": [],
   "source": [
    "from src.price_analyzer import BrentOilPriceAnalyzer"
   ]
  },
  {
   "cell_type": "code",
   "execution_count": 3,
   "id": "ed6db061",
   "metadata": {},
   "outputs": [
    {
     "name": "stdout",
     "output_type": "stream",
     "text": [
      "✓ Data loaded successfully: 9011 records\n",
      "✓ Date range: 1-Apr-02 to 9-Sep-99\n",
      "✓ Data preprocessing completed\n"
     ]
    }
   ],
   "source": [
    "  # Initialize analyzer\n",
    "analyzer = BrentOilPriceAnalyzer()\n",
    "    "
   ]
  },
  {
   "cell_type": "code",
   "execution_count": 4,
   "id": "c2c3266b",
   "metadata": {},
   "outputs": [
    {
     "name": "stdout",
     "output_type": "stream",
     "text": [
      "Starting comprehensive analysis...\n"
     ]
    }
   ],
   "source": [
    "# Run complete analysis\n",
    "print(\"Starting comprehensive analysis...\")"
   ]
  },
  {
   "cell_type": "code",
   "execution_count": 5,
   "id": "3c740083",
   "metadata": {},
   "outputs": [
    {
     "name": "stdout",
     "output_type": "stream",
     "text": [
      "\n",
      "=== Time Series Properties Analysis ===\n",
      "✓ Mean Price: $48.42\n",
      "✓ Price Range: $9.10 - $143.95\n",
      "✓ Data Span: 35.5 years\n",
      "✓ Stationary: No (p=0.2893)\n"
     ]
    },
    {
     "data": {
      "text/plain": [
       "{'basic_stats': {'mean_price': np.float64(48.42078237709467),\n",
       "  'std_price': np.float64(32.86010995167221),\n",
       "  'min_price': np.float64(9.1),\n",
       "  'max_price': np.float64(143.95),\n",
       "  'total_observations': 9011,\n",
       "  'date_range_years': 35.488021902806295},\n",
       " 'stationarity': {'adf_statistic': np.float64(-1.9938560113924675),\n",
       "  'p_value': np.float64(0.28927350489340287),\n",
       "  'critical_values': {'1%': np.float64(-3.4310783342658615),\n",
       "   '5%': np.float64(-2.861861876398633),\n",
       "   '10%': np.float64(-2.566941329781918)},\n",
       "  'is_stationary': np.False_},\n",
       " 'trend_analysis': {'linear_trend': {'slope': np.float64(0.009108410910685719),\n",
       "   'intercept': np.float64(7.387391224455506),\n",
       "   'r_squared': np.float64(0.5199482631930914),\n",
       "   'p_value': np.float64(0.0)},\n",
       "  'exponential_trend': {'growth_rate': np.float64(0.00021933794347439895),\n",
       "   'intercept': np.float64(2.650611328567021),\n",
       "   'r_squared': np.float64(0.6511058512300504),\n",
       "   'p_value': np.float64(0.0)}},\n",
       " 'seasonality_analysis': {'monthly_patterns': {'means': {1: 46.11500683994528,\n",
       "    2: 46.97521613832853,\n",
       "    3: 48.370494791666665,\n",
       "    4: 48.79526166902404,\n",
       "    5: 50.07104697986577,\n",
       "    6: 49.656970091027304,\n",
       "    7: 49.879719387755095,\n",
       "    8: 50.00871501272265,\n",
       "    9: 48.953818897637795,\n",
       "    10: 49.26402515723271,\n",
       "    11: 46.8679920212766,\n",
       "    12: 45.60986072423398},\n",
       "   'std': {1: 30.854531588645912,\n",
       "    2: 32.49980934826038,\n",
       "    3: 34.69933623410288,\n",
       "    4: 34.60031773394269,\n",
       "    5: 34.73415221099168,\n",
       "    6: 35.114148654489306,\n",
       "    7: 34.97705276828487,\n",
       "    8: 33.08481953358118,\n",
       "    9: 31.522584715687547,\n",
       "    10: 30.94733509969261,\n",
       "    11: 30.321432191719772,\n",
       "    12: 29.966165834490518}},\n",
       "  'day_of_week_patterns': {'means': {0: 48.22597447795824,\n",
       "    1: 48.486800219538964,\n",
       "    2: 48.44763873775843,\n",
       "    3: 48.3889295466958,\n",
       "    4: 48.545796213808465},\n",
       "   'std': {0: 32.66745325880277,\n",
       "    1: 32.93115597837545,\n",
       "    2: 32.92882062474442,\n",
       "    3: 32.92681826806035,\n",
       "    4: 32.869598524550526}}},\n",
       " 'volatility_analysis': {'volatility_clustering': {'acf_squared_returns': [1.0,\n",
       "    0.4639297890308582,\n",
       "    0.07881861430294422,\n",
       "    0.07778466745325104,\n",
       "    0.07542610924527514,\n",
       "    0.13069920004991795,\n",
       "    0.13261388288993292,\n",
       "    0.11067287679598546,\n",
       "    0.08038165620306058,\n",
       "    0.1431650344972543,\n",
       "    0.18510128261788003,\n",
       "    0.24710138124401848,\n",
       "    0.2763543863373942,\n",
       "    0.115854897690392,\n",
       "    0.06414613467959028,\n",
       "    0.07915730334390406,\n",
       "    0.05415938246257196,\n",
       "    0.07720349637162681,\n",
       "    0.07905494096334643,\n",
       "    0.03848104988546571,\n",
       "    0.053211863231296036],\n",
       "   'high_volatility_periods': np.int64(901),\n",
       "   'low_volatility_periods': np.int64(901),\n",
       "   'volatility_ratio': np.float64(1.0)}}}"
      ]
     },
     "execution_count": 5,
     "metadata": {},
     "output_type": "execute_result"
    }
   ],
   "source": [
    "# 1. Time series properties\n",
    "analyzer.analyze_time_series_properties()"
   ]
  },
  {
   "cell_type": "code",
   "execution_count": 6,
   "id": "7eac6f21",
   "metadata": {},
   "outputs": [
    {
     "name": "stdout",
     "output_type": "stream",
     "text": [
      "\n",
      "=== Change Point Detection (PEAKS) ===\n",
      "✓ Detected 0 change points\n"
     ]
    },
    {
     "data": {
      "text/plain": [
       "{'change_points': [], 'analysis': {}}"
      ]
     },
     "execution_count": 6,
     "metadata": {},
     "output_type": "execute_result"
    }
   ],
   "source": [
    "# 2. Change point detection (using peaks method)\n",
    "analyzer.detect_change_points(method='peaks')"
   ]
  },
  {
   "cell_type": "code",
   "execution_count": 7,
   "id": "e43fc904",
   "metadata": {},
   "outputs": [
    {
     "name": "stdout",
     "output_type": "stream",
     "text": [
      "\n",
      "=== Event Correlation Analysis (Window: 30 days) ===\n",
      "\n",
      "=== Creating Event Dataset ===\n",
      "✓ Created event dataset with 18 major events\n",
      "✓ Analyzed 18 events\n",
      "✓ Found 0 change point-event matches\n"
     ]
    },
    {
     "data": {
      "text/plain": [
       "{'event_impact_analysis': [{'event_date': Timestamp('1990-08-02 00:00:00'),\n",
       "   'pre_event_mean': np.float64(17.375000000000004),\n",
       "   'post_event_mean': np.float64(27.49636363636363),\n",
       "   'price_change_pct': np.float64(58.25245258338776),\n",
       "   'volatility_change_pct': np.float64(149.981107511493),\n",
       "   'impact_magnitude': np.float64(58.25245258338776)},\n",
       "  {'event_date': Timestamp('1991-01-17 00:00:00'),\n",
       "   'pre_event_mean': np.float64(26.9995),\n",
       "   'post_event_mean': np.float64(20.58818181818182),\n",
       "   'price_change_pct': np.float64(-23.746062637523586),\n",
       "   'volatility_change_pct': np.float64(9.69508734510209),\n",
       "   'impact_magnitude': np.float64(23.746062637523586)},\n",
       "  {'event_date': Timestamp('1991-02-28 00:00:00'),\n",
       "   'pre_event_mean': np.float64(19.71),\n",
       "   'post_event_mean': np.float64(19.102380952380955),\n",
       "   'price_change_pct': np.float64(-3.0827957768596965),\n",
       "   'volatility_change_pct': np.float64(4.896589805526442),\n",
       "   'impact_magnitude': np.float64(3.0827957768596965)},\n",
       "  {'event_date': Timestamp('1997-07-02 00:00:00'),\n",
       "   'pre_event_mean': np.float64(17.58),\n",
       "   'post_event_mean': np.float64(18.505714285714284),\n",
       "   'price_change_pct': np.float64(5.265724037055093),\n",
       "   'volatility_change_pct': np.float64(-8.957883806016548),\n",
       "   'impact_magnitude': np.float64(5.265724037055093)},\n",
       "  {'event_date': Timestamp('1998-08-17 00:00:00'),\n",
       "   'pre_event_mean': np.float64(12.057),\n",
       "   'post_event_mean': np.float64(12.329090909090906),\n",
       "   'price_change_pct': np.float64(2.256704894176877),\n",
       "   'volatility_change_pct': np.float64(-7.515999606533944),\n",
       "   'impact_magnitude': np.float64(2.256704894176877)},\n",
       "  {'event_date': Timestamp('2001-09-11 00:00:00'),\n",
       "   'pre_event_mean': np.float64(26.100952380952382),\n",
       "   'post_event_mean': np.float64(23.52565217391304),\n",
       "   'price_change_pct': np.float64(-9.866690569186702),\n",
       "   'volatility_change_pct': np.float64(201.7963355974676),\n",
       "   'impact_magnitude': np.float64(9.866690569186702)},\n",
       "  {'event_date': Timestamp('2003-03-20 00:00:00'),\n",
       "   'pre_event_mean': np.float64(33.04590909090909),\n",
       "   'post_event_mean': np.float64(26.05636363636364),\n",
       "   'price_change_pct': np.float64(-21.15101580445936),\n",
       "   'volatility_change_pct': np.float64(33.21381589189609),\n",
       "   'impact_magnitude': np.float64(21.15101580445936)},\n",
       "  {'event_date': Timestamp('2008-09-15 00:00:00'),\n",
       "   'pre_event_mean': np.float64(106.39263157894737),\n",
       "   'post_event_mean': np.float64(88.34347826086956),\n",
       "   'price_change_pct': np.float64(-16.964664798881916),\n",
       "   'volatility_change_pct': np.float64(39.18580401824091),\n",
       "   'impact_magnitude': np.float64(16.964664798881916)},\n",
       "  {'event_date': Timestamp('2008-10-03 00:00:00'),\n",
       "   'pre_event_mean': np.float64(96.27545454545456),\n",
       "   'post_event_mean': np.float64(69.77714285714285),\n",
       "   'price_change_pct': np.float64(-27.52343451757068),\n",
       "   'volatility_change_pct': np.float64(43.270413894329835),\n",
       "   'impact_magnitude': np.float64(27.52343451757068)},\n",
       "  {'event_date': Timestamp('2011-01-25 00:00:00'),\n",
       "   'pre_event_mean': np.float64(95.55049999999999),\n",
       "   'post_event_mean': np.float64(101.46272727272726),\n",
       "   'price_change_pct': np.float64(6.187541951876002),\n",
       "   'volatility_change_pct': np.float64(32.551620827805614),\n",
       "   'impact_magnitude': np.float64(6.187541951876002)},\n",
       "  {'event_date': Timestamp('2011-03-19 00:00:00'),\n",
       "   'pre_event_mean': np.float64(112.18142857142857),\n",
       "   'post_event_mean': np.float64(119.7242857142857),\n",
       "   'price_change_pct': np.float64(6.723802004406116),\n",
       "   'volatility_change_pct': np.float64(-31.860172967198853),\n",
       "   'impact_magnitude': np.float64(6.723802004406116)},\n",
       "  {'event_date': Timestamp('2010-01-01 00:00:00'),\n",
       "   'pre_event_mean': np.float64(74.25523809523811),\n",
       "   'post_event_mean': np.float64(76.16736842105263),\n",
       "   'price_change_pct': np.float64(2.5750780347132687),\n",
       "   'volatility_change_pct': np.float64(-35.357647083306915),\n",
       "   'impact_magnitude': np.float64(2.5750780347132687)},\n",
       "  {'event_date': Timestamp('2014-11-27 00:00:00'),\n",
       "   'pre_event_mean': np.float64(80.88999999999999),\n",
       "   'post_event_mean': np.float64(63.7265),\n",
       "   'price_change_pct': np.float64(-21.218321176906898),\n",
       "   'volatility_change_pct': np.float64(30.777541248942843),\n",
       "   'impact_magnitude': np.float64(21.218321176906898)},\n",
       "  {'event_date': Timestamp('2016-11-30 00:00:00'),\n",
       "   'pre_event_mean': np.float64(44.654545454545456),\n",
       "   'post_event_mean': np.float64(53.05333333333333),\n",
       "   'price_change_pct': np.float64(18.808360477741566),\n",
       "   'volatility_change_pct': np.float64(22.177911987346395),\n",
       "   'impact_magnitude': np.float64(18.808360477741566)},\n",
       "  {'event_date': Timestamp('2020-03-11 00:00:00'),\n",
       "   'pre_event_mean': np.float64(53.02590909090909),\n",
       "   'post_event_mean': np.float64(24.47772727272728),\n",
       "   'price_change_pct': np.float64(-53.83817516308492),\n",
       "   'volatility_change_pct': np.float64(133.37906758597555),\n",
       "   'impact_magnitude': np.float64(53.83817516308492)},\n",
       "  {'event_date': Timestamp('2020-04-20 00:00:00'),\n",
       "   'pre_event_mean': np.float64(21.57111111111111),\n",
       "   'post_event_mean': np.float64(22.39681818181818),\n",
       "   'price_change_pct': np.float64(3.827837455631819),\n",
       "   'volatility_change_pct': np.float64(19.53896806820587),\n",
       "   'impact_magnitude': np.float64(3.827837455631819)},\n",
       "  {'event_date': Timestamp('2022-02-24 00:00:00'),\n",
       "   'pre_event_mean': np.float64(95.2218181818182),\n",
       "   'post_event_mean': np.float64(115.88181818181819),\n",
       "   'price_change_pct': np.float64(21.696708164668138),\n",
       "   'volatility_change_pct': np.float64(172.9489148264746),\n",
       "   'impact_magnitude': np.float64(21.696708164668138)},\n",
       "  {'event_date': Timestamp('2022-03-08 00:00:00'),\n",
       "   'pre_event_mean': np.float64(103.29380952380953),\n",
       "   'post_event_mean': np.float64(113.91521739130435),\n",
       "   'price_change_pct': np.float64(10.282714827210006),\n",
       "   'volatility_change_pct': np.float64(42.805169512881804),\n",
       "   'impact_magnitude': np.float64(10.282714827210006)}],\n",
       " 'change_point_event_matches': [],\n",
       " 'statistical_tests': {'t_test': {'statistic': np.float64(-0.40593704926346774),\n",
       "   'p_value': np.float64(0.6898526828372904),\n",
       "   'significant': np.False_},\n",
       "  'normality_test': {'p_value': np.float64(0.22577731990705543),\n",
       "   'normal': np.True_},\n",
       "  'mean_impact': np.float64(-2.3063464452003952),\n",
       "  'std_impact': np.float64(23.425577980829136)}}"
      ]
     },
     "execution_count": 7,
     "metadata": {},
     "output_type": "execute_result"
    }
   ],
   "source": [
    "# 3. Event correlation\n",
    "analyzer.correlate_events_with_changes(window_days=30)"
   ]
  },
  {
   "cell_type": "code",
   "execution_count": 8,
   "id": "ee9e5699",
   "metadata": {},
   "outputs": [
    {
     "name": "stdout",
     "output_type": "stream",
     "text": [
      "\n",
      "=== Generating Insights Report ===\n",
      "✓ Insights report generated successfully\n"
     ]
    }
   ],
   "source": [
    " # 4. Generate insights\n",
    "insights = analyzer.generate_insights_report()"
   ]
  },
  {
   "cell_type": "code",
   "execution_count": 9,
   "id": "fe472371",
   "metadata": {},
   "outputs": [
    {
     "name": "stdout",
     "output_type": "stream",
     "text": [
      "\n",
      "=== Saving Results to ../data/processed/ ===\n",
      "✓ Results saved successfully\n"
     ]
    }
   ],
   "source": [
    "# 5. Save results\n",
    "analyzer.save_results()"
   ]
  },
  {
   "cell_type": "code",
   "execution_count": 10,
   "id": "af0e9f5c",
   "metadata": {},
   "outputs": [
    {
     "name": "stdout",
     "output_type": "stream",
     "text": [
      "\n",
      "================================================================================\n",
      "EXECUTIVE SUMMARY\n",
      "================================================================================\n",
      "EXECUTIVE SUMMARY\n",
      "        \n",
      "        This analysis examined 9,011 daily Brent oil price observations \n",
      "        spanning 35.5 years (1987-2022). The study identified \n",
      "        0 significant structural changes in oil price dynamics, \n",
      "        with 0 change points occurring near major geopolitical \n",
      "        or economic events.\n",
      "        \n",
      "        Key findings indicate that Brent oil prices exhibit significant volatility clustering and \n",
      "        are highly sensitive to geopolitical events, particularly conflicts in oil-producing regions \n",
      "        and major economic crises. The analysis reveals that price changes during event periods are \n",
      "        statistically significant (p < 0.05), with average impacts of \n",
      "        -2.3% price movements.\n",
      "        \n",
      "        These insights provide valuable guidance for investment strategies, risk management, \n",
      "        and policy development in the energy sector.\n",
      "\n",
      "================================================================================\n",
      "KEY FINDINGS\n",
      "================================================================================\n",
      "1. Brent oil prices are non-stationary, indicating persistent trends and structural changes over time.\n",
      "\n",
      "================================================================================\n",
      "RECOMMENDATIONS FOR INVESTORS\n",
      "================================================================================\n",
      "1. Implement dynamic hedging strategies that adjust to volatility regimes\n",
      "2. Monitor geopolitical events in oil-producing regions closely\n",
      "3. Diversify energy portfolios to reduce exposure to oil price volatility\n",
      "4. Use change point analysis for portfolio rebalancing decisions\n",
      "\n",
      "Analysis completed successfully!\n",
      "Check the 'data/processed/' directory for detailed results.\n"
     ]
    }
   ],
   "source": [
    " # Print executive summary\n",
    "print(\"\\n\" + \"=\"*80)\n",
    "print(\"EXECUTIVE SUMMARY\")\n",
    "print(\"=\"*80)\n",
    "print(insights['executive_summary'])\n",
    "    \n",
    "print(\"\\n\" + \"=\"*80)\n",
    "print(\"KEY FINDINGS\")\n",
    "print(\"=\"*80)\n",
    "for i, finding in enumerate(insights['key_findings'], 1):\n",
    "    print(f\"{i}. {finding}\")\n",
    "    \n",
    "    print(\"\\n\" + \"=\"*80)\n",
    "    print(\"RECOMMENDATIONS FOR INVESTORS\")\n",
    "    print(\"=\"*80)\n",
    "    for i, rec in enumerate(insights['recommendations']['investors'], 1):\n",
    "        print(f\"{i}. {rec}\")\n",
    "    \n",
    "    print(\"\\nAnalysis completed successfully!\")\n",
    "    print(\"Check the 'data/processed/' directory for detailed results.\")"
   ]
  }
 ],
 "metadata": {
  "kernelspec": {
   "display_name": "Python 3",
   "language": "python",
   "name": "python3"
  },
  "language_info": {
   "codemirror_mode": {
    "name": "ipython",
    "version": 3
   },
   "file_extension": ".py",
   "mimetype": "text/x-python",
   "name": "python",
   "nbconvert_exporter": "python",
   "pygments_lexer": "ipython3",
   "version": "3.13.5"
  }
 },
 "nbformat": 4,
 "nbformat_minor": 5
}
